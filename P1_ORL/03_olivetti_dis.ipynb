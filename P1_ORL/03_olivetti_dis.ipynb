{
 "cells": [
  {
   "attachments": {},
   "cell_type": "markdown",
   "metadata": {},
   "source": [
    "# Olivetti con clasificadores discriminativos"
   ]
  },
  {
   "cell_type": "code",
   "execution_count": 1,
   "metadata": {},
   "outputs": [],
   "source": [
    "import numpy as np\n",
    "import matplotlib.pyplot as plt\n",
    "from scipy.stats import multivariate_normal\n",
    "from sklearn.datasets import fetch_olivetti_faces\n",
    "from sklearn.model_selection import train_test_split\n",
    "from sklearn.linear_model import Perceptron, LogisticRegression\n",
    "from sklearn.metrics import accuracy_score\n",
    "from sklearn.decomposition import PCA\n",
    "from sklearn.preprocessing import StandardScaler, PolynomialFeatures\n",
    "from sklearn.pipeline import make_pipeline"
   ]
  },
  {
   "cell_type": "code",
   "execution_count": 2,
   "metadata": {},
   "outputs": [],
   "source": [
    "orl = fetch_olivetti_faces()\n",
    "X = orl.data\n",
    "y = orl.target\n",
    "X_train, X_test, y_train, y_test = train_test_split(\n",
    "    orl.data, orl.target, test_size=0.3, shuffle=True, random_state=23)"
   ]
  },
  {
   "attachments": {},
   "cell_type": "markdown",
   "metadata": {},
   "source": [
    "Perceptrón con penalización L2 en función de alpha:"
   ]
  },
  {
   "cell_type": "code",
   "execution_count": 3,
   "metadata": {},
   "outputs": [
    {
     "name": "stdout",
     "output_type": "stream",
     "text": [
      "La precisión de Perceptron(alpha=1e-08, penalty='l2') es 89.2%\n",
      "La precisión de Perceptron(alpha=1e-07, penalty='l2') es 89.2%\n",
      "La precisión de Perceptron(alpha=1e-06, penalty='l2') es 88.3%\n",
      "La precisión de Perceptron(alpha=1e-05, penalty='l2') es 85.8%\n",
      "La precisión de Perceptron(penalty='l2') es 87.5%\n",
      "La precisión de Perceptron(alpha=0.001, penalty='l2') es 57.5%\n"
     ]
    }
   ],
   "source": [
    "for a in np.logspace(-8,-3,6):\n",
    "    clf = Perceptron(penalty='l2', alpha=a, random_state=0).fit(X_train, y_train)\n",
    "    acc = accuracy_score(y_test, clf.predict(X_test))\n",
    "    print('La precisión de {0!s} es {1:.1%}'.format(clf, acc))"
   ]
  },
  {
   "attachments": {},
   "cell_type": "markdown",
   "metadata": {},
   "source": [
    "Regresión logística con varios solvers (y max_iter=10000)."
   ]
  },
  {
   "cell_type": "code",
   "execution_count": 4,
   "metadata": {},
   "outputs": [
    {
     "name": "stdout",
     "output_type": "stream",
     "text": [
      "La precisión de LogisticRegression(max_iter=10000) es 98.3%\n",
      "La precisión de LogisticRegression(max_iter=10000, solver='liblinear') es 97.5%\n",
      "La precisión de LogisticRegression(max_iter=10000, solver='newton-cg') es 98.3%\n",
      "La precisión de LogisticRegression(max_iter=10000, solver='sag') es 98.3%\n",
      "La precisión de LogisticRegression(max_iter=10000, solver='saga') es 98.3%\n"
     ]
    }
   ],
   "source": [
    "for solver in ['lbfgs', 'liblinear', 'newton-cg', 'sag', 'saga']:\n",
    "    clf = LogisticRegression(solver=solver, max_iter=10000).fit(X_train, y_train)\n",
    "    acc = accuracy_score(y_test, clf.predict(X_test))\n",
    "    print('La precisión de {0!s} es {1:.1%}'.format(clf, acc))"
   ]
  },
  {
   "attachments": {},
   "cell_type": "markdown",
   "metadata": {},
   "source": [
    "Dado que tenemos $4097$ características originales (en notación homogénea), podríamos añadir $4096\\cdot 4097/2=8390656$ características cuadráticas. Claramente, regresión logística con características cuadráticas no es factible por su elevado coste computacional. Así pues, trataremos de mejorar la precisión de regresión logística mediante ingeniería de características basada en estandarización (StandardScaler) y reducción de la dimensión (PCA)."
   ]
  },
  {
   "cell_type": "code",
   "execution_count": 5,
   "metadata": {},
   "outputs": [],
   "source": [
    "def lr_exp(standardize=True, degree=1, n_components=0):\n",
    "    clf = make_pipeline(StandardScaler() if standardize else None, \n",
    "    PCA(n_components=n_components) if n_components > 0 else None,\n",
    "    LogisticRegression(max_iter=10000, solver='saga', n_jobs=8)).fit(X_train, y_train)\n",
    "    y_pred = clf.predict(X_test)\n",
    "    return accuracy_score(y_test, y_pred)"
   ]
  },
  {
   "cell_type": "code",
   "execution_count": 6,
   "metadata": {},
   "outputs": [
    {
     "name": "stdout",
     "output_type": "stream",
     "text": [
      "standardize False components 8: 77.5% acc\n",
      "standardize True components 8: 77.5% acc\n",
      "standardize False components 16: 92.5% acc\n",
      "standardize True components 16: 93.3% acc\n",
      "standardize False components 32: 96.7% acc\n",
      "standardize True components 32: 96.7% acc\n",
      "standardize False components 64: 97.5% acc\n",
      "standardize True components 64: 99.2% acc\n",
      "standardize False components 128: 98.3% acc\n",
      "standardize True components 128: 98.3% acc\n",
      "standardize False components 0: 98.3% acc\n",
      "standardize True components 0: 99.2% acc\n"
     ]
    }
   ],
   "source": [
    "for n_components in [8, 16, 32, 64, 128, 0]:\n",
    "    for standardize in [False, True]:\n",
    "        acc = lr_exp(standardize=standardize, degree=2, n_components=n_components)\n",
    "        print('standardize {0:} components {1:}: {2:.1%} acc'.format(standardize, n_components, acc))"
   ]
  }
 ],
 "metadata": {
  "kernelspec": {
   "display_name": "Python 3",
   "language": "python",
   "name": "python3"
  },
  "language_info": {
   "codemirror_mode": {
    "name": "ipython",
    "version": 3
   },
   "file_extension": ".py",
   "mimetype": "text/x-python",
   "name": "python",
   "nbconvert_exporter": "python",
   "pygments_lexer": "ipython3",
   "version": "3.10.6"
  },
  "vscode": {
   "interpreter": {
    "hash": "e7370f93d1d0cde622a1f8e1c04877d8463912d04d973331ad4851f04de6915a"
   }
  }
 },
 "nbformat": 4,
 "nbformat_minor": 4
}
