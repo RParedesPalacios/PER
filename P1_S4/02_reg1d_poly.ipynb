{
 "cells": [
  {
   "attachments": {},
   "cell_type": "markdown",
   "id": "268f2d21",
   "metadata": {},
   "source": [
    "# reg1d con regresión polinómica\n",
    "\n",
    "Supongamos que reg1d es una tarea real, por lo que solo tenemos datos y no conocemos el modelo real subyacente a los mismos. Al igual que hemos hecho con clasificadores (generativos y discriminativos) en iris y digits, empleamos sklearn para aprender y evaluar modelos de regresión polinómica en reg1d."
   ]
  },
  {
   "cell_type": "code",
   "execution_count": 1,
   "id": "26b5cdc2",
   "metadata": {},
   "outputs": [],
   "source": [
    "import numpy as np\n",
    "import matplotlib.pyplot as plt\n",
    "from reg1d import load_reg1d\n",
    "from sklearn.preprocessing import MinMaxScaler\n",
    "from sklearn.preprocessing import PolynomialFeatures\n",
    "from sklearn.linear_model import LinearRegression\n",
    "import sklearn.metrics\n",
    "from sklearn.metrics import mean_squared_error"
   ]
  },
  {
   "attachments": {},
   "cell_type": "markdown",
   "id": "5418fb43",
   "metadata": {},
   "source": [
    "Lectura del corpus reg1d:"
   ]
  },
  {
   "cell_type": "code",
   "execution_count": 2,
   "id": "c1804024",
   "metadata": {},
   "outputs": [],
   "source": [
    "X_train, y_train, X_test, y_test = load_reg1d()"
   ]
  },
  {
   "attachments": {},
   "cell_type": "markdown",
   "id": "5880cf99",
   "metadata": {},
   "source": [
    "Para evitar problemas numéricos al hallar características polinómicas, normalizamos las entradas en $[-1, 1]$ mediante escalado simple con `MinMaxScaler`. Asimismo, reformatamos X_train y X_test como matrices de datos (arrays 2d) en lugar de arrays 1d para facilitar su procesamiento."
   ]
  },
  {
   "cell_type": "code",
   "execution_count": 3,
   "id": "1b181373",
   "metadata": {},
   "outputs": [],
   "source": [
    "scaler = MinMaxScaler(feature_range=(-1, 1))\n",
    "X_train = scaler.fit_transform(X_train.reshape(-1, 1))\n",
    "X_test = scaler.transform(X_test.reshape(-1, 1))"
   ]
  },
  {
   "attachments": {},
   "cell_type": "markdown",
   "id": "6bd0b1b6",
   "metadata": {},
   "source": [
    "## Modelo lineal\n",
    "\n",
    "Regresión lineal ajusta el sesgo $w_0$ (`intercept_`) y coeficiente de regresión lineal $w_1$ (`coef_`) del predictor de media, $f(x;\\boldsymbol{w})=w_0+w_1x$, por mínimos cuadrados (OLS, ordinary least squares):"
   ]
  },
  {
   "cell_type": "code",
   "execution_count": 4,
   "id": "75f1110e",
   "metadata": {},
   "outputs": [
    {
     "data": {
      "image/png": "[encoded data removed]",
      "text/plain": [
       "<Figure size 432x288 with 1 Axes>"
      ]
     },
     "metadata": {
      "needs_background": "light"
     },
     "output_type": "display_data"
    }
   ],
   "source": [
    "regr = LinearRegression()\n",
    "regr.fit(X_train, y_train)\n",
    "plt.scatter(X_train, y_train)\n",
    "plt.plot(X_train, regr.intercept_ + regr.coef_ * X_train);"
   ]
  },
  {
   "attachments": {},
   "cell_type": "markdown",
   "id": "34cd6138",
   "metadata": {},
   "source": [
    "La calidad del modelo ajustado puede evaluarse mediante el error cuadrático medio en train y test:"
   ]
  },
  {
   "cell_type": "code",
   "execution_count": 5,
   "id": "63334123",
   "metadata": {},
   "outputs": [
    {
     "name": "stdout",
     "output_type": "stream",
     "text": [
      "El MSE de LinearRegression() es 13.80 en training y 16.45 en test\n"
     ]
    }
   ],
   "source": [
    "mse_train = mean_squared_error(y_train, regr.predict(X_train))\n",
    "mse_test = mean_squared_error(y_test, regr.predict(X_test))\n",
    "print('El MSE de {0!s} es {1:.2f} en training y {2:.2f} en test'.format(regr, mse_train, mse_test))"
   ]
  },
  {
   "attachments": {},
   "cell_type": "markdown",
   "id": "c5d4e01e",
   "metadata": {},
   "source": [
    "## Modelo cuadrático\n",
    "\n",
    "Con el fin de ajustar un predictor de media cuadrático, $f(x;\\boldsymbol{w})=w_0+w_1x+w_2x^2$, primero transformarmos las entradas de $x$ a $(x, x^2)$ mediante `PolynomialFeatures` con `degree=2` y `include_bias=False`:"
   ]
  },
  {
   "cell_type": "code",
   "execution_count": 6,
   "id": "e3f835f0",
   "metadata": {},
   "outputs": [
    {
     "name": "stdout",
     "output_type": "stream",
     "text": [
      "[[-1.   -1.    1.  ]\n",
      " [-0.9  -0.9   0.81]\n",
      " [-0.8  -0.8   0.64]]\n",
      "[[-1.     -1.      1.    ]\n",
      " [-0.99   -0.99    0.9801]\n",
      " [-0.98   -0.98    0.9604]]\n"
     ]
    }
   ],
   "source": [
    "regr = LinearRegression()\n",
    "poly_feats = PolynomialFeatures(degree=2, include_bias=False)\n",
    "X_train_poly = poly_feats.fit_transform(X_train)\n",
    "X_test_poly = poly_feats.transform(X_test)\n",
    "print(np.hstack((X_train[:3,], X_train_poly[:3,])))\n",
    "print(np.hstack((X_test[:3,], X_test_poly[:3,])))"
   ]
  },
  {
   "attachments": {},
   "cell_type": "markdown",
   "id": "33755e73",
   "metadata": {},
   "source": [
    "Luego ajustamos y evaluamos el modelo sin más:"
   ]
  },
  {
   "cell_type": "code",
   "execution_count": 7,
   "id": "b81b74aa",
   "metadata": {},
   "outputs": [
    {
     "name": "stdout",
     "output_type": "stream",
     "text": [
      "MSE con grado 2: 3.14 en training y 5.84 en test\n"
     ]
    },
    {
     "data": {
      "image/png": "[encoded data removed]",
      "text/plain": [
       "<Figure size 432x288 with 1 Axes>"
      ]
     },
     "metadata": {
      "needs_background": "light"
     },
     "output_type": "display_data"
    }
   ],
   "source": [
    "regr.fit(X_train_poly, y_train)\n",
    "y_train_pred = regr.predict(X_train_poly)\n",
    "mse_train = mean_squared_error(y_train_pred, y_train)\n",
    "y_test_pred = regr.predict(X_test_poly)\n",
    "mse_test = mean_squared_error(y_test_pred, y_test)\n",
    "print('MSE con grado 2: {0:.2f} en training y {1:.2f} en test'.format(mse_train, mse_test))\n",
    "plt.scatter(X_train, y_train)\n",
    "plt.plot(X_test, y_test_pred);"
   ]
  },
  {
   "attachments": {},
   "cell_type": "markdown",
   "id": "e18c921f",
   "metadata": {},
   "source": [
    "**Ejercicio:** Extiende el modelo cuadrático a polinomios de grado $D$, $D=1, 2, \\dotsc, 15$, y representa gráficamente el error cuadrático medio en training y test en función de $D$."
   ]
  }
 ],
 "metadata": {
  "kernelspec": {
   "display_name": "Python 3",
   "language": "python",
   "name": "python3"
  },
  "language_info": {
   "codemirror_mode": {
    "name": "ipython",
    "version": 3
   },
   "file_extension": ".py",
   "mimetype": "text/x-python",
   "name": "python",
   "nbconvert_exporter": "python",
   "pygments_lexer": "ipython3",
   "version": "3.10.6"
  },
  "vscode": {
   "interpreter": {
    "hash": "e7370f93d1d0cde622a1f8e1c04877d8463912d04d973331ad4851f04de6915a"
   }
  }
 },
 "nbformat": 4,
 "nbformat_minor": 5
}
