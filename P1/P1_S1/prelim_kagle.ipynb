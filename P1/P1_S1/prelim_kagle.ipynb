{
 "cells": [
  {
   "attachments": {},
   "cell_type": "markdown",
   "metadata": {},
   "source": [
    "# [Kaggle](https://www.kaggle.com)"
   ]
  },
  {
   "attachments": {},
   "cell_type": "markdown",
   "metadata": {},
   "source": [
    "[Kaggle](https://www.kaggle.com) es una plataforma de ML muy popular, con competiciones, conjuntos de datos, código, foros y cursos.\n",
    "\n"
   ]
  },
  {
   "attachments": {},
   "cell_type": "markdown",
   "metadata": {},
   "source": [
    "## [Registro](https://www.kaggle.com/account/login?phase=startSignInTab&returnUrl=%2F)"
   ]
  },
  {
   "attachments": {},
   "cell_type": "markdown",
   "metadata": {},
   "source": [
    "Puedes registrarte con email o la cuenta Google."
   ]
  },
  {
   "attachments": {},
   "cell_type": "markdown",
   "metadata": {},
   "source": [
    "## [Cursos](https://www.kaggle.com/learn)"
   ]
  },
  {
   "attachments": {},
   "cell_type": "markdown",
   "metadata": {},
   "source": [
    "Se incluyen diversos cursos gratuitos de formación en programación y ML. En relación con PER, si lo consideras conveniente, puedes consultar:\n",
    "\n",
    "* [Introducción a la programación](https://www.kaggle.com/learn/intro-to-programming): introducción a python básica (5h)\n",
    "* [Python](https://www.kaggle.com/learn/python): introducción a python avanzada (5h)\n",
    "* [Introducción al ML](https://www.kaggle.com/learn/intro-to-machine-learning): conceptos básicos de ML que veremos en PER (3h)\n",
    "* [Pandas](https://www.kaggle.com/learn/pandas): librería de análisis y manipulación de datos que usaremos moderadamente (4h)\n",
    "* [ML intermedio](https://www.kaggle.com/learn/intermediate-machine-learning): más conceptos de ML que también veremos en PER (4h)\n",
    "* [Visualización de datos](https://www.kaggle.com/learn/data-visualization): con seaborn; aunque en PER usaremos matplotlib sobre todo (4h)\n"
   ]
  },
  {
   "attachments": {},
   "cell_type": "markdown",
   "metadata": {},
   "source": [
    "## [Competiciones](https://www.kaggle.com/competitions?hostSegmentIdFilter=5)"
   ]
  },
  {
   "attachments": {},
   "cell_type": "markdown",
   "metadata": {},
   "source": [
    "La popularidad de kaggle se debe, sobre todo, a sus competiciones. Entre las competiciones introductorias cabe destacar:\n",
    "\n",
    "* [Titanic](https://www.kaggle.com/c/titanic): primera competición introductoria propuesta por kaggle\n",
    "* [Digit Recognizer](https://www.kaggle.com/competitions/digit-recognizer): competición sobre la segunda tarea que consideraremos en laboratorio"
   ]
  },
  {
   "attachments": {},
   "cell_type": "markdown",
   "metadata": {},
   "source": [
    "## [Datos](https://www.kaggle.com/datasets)"
   ]
  },
  {
   "attachments": {},
   "cell_type": "markdown",
   "metadata": {},
   "source": [
    "Uno de los grandes atractivos de kaggle es su gran colección de cerca de 200K conjuntos de datos para aprender a resolver tareas ML de todo tipo. Por conveniencia en PER, se recomienda explorar los datos asociados a tareas de clasificación y visión. En particular, por su relación con la primera tarea de laboratorio de PER, se recomienda consultar:\n",
    "\n",
    "* [Iris Species](https://www.kaggle.com/datasets/uciml/iris): lo usaremos en la primera tarea de laboratorio\n",
    "* [Iris Computer Vision](https://www.kaggle.com/datasets/jeffheaton/iris-computer-vision): imágenes de flores iris; ¿podemos clasificarlas a partir de las imágenes?"
   ]
  },
  {
   "attachments": {},
   "cell_type": "markdown",
   "metadata": {},
   "source": [
    "## [Herramienta CLI](https://github.com/Kaggle/kaggle-api#readme)"
   ]
  },
  {
   "attachments": {},
   "cell_type": "markdown",
   "metadata": {},
   "source": [
    "Si trabajas en Unix, se recomienda usar la herramienta CLI (Command Line Interface) de kaggle."
   ]
  },
  {
   "attachments": {},
   "cell_type": "markdown",
   "metadata": {},
   "source": [
    "### Instalación"
   ]
  },
  {
   "cell_type": "code",
   "execution_count": 4,
   "metadata": {},
   "outputs": [
    {
     "name": "stdout",
     "output_type": "stream",
     "text": [
      "Defaulting to user installation because normal site-packages is not writeable\n",
      "Requirement already satisfied: kaggle in /home/ajuan/.local/lib/python3.10/site-packages (1.5.12)\n",
      "Requirement already satisfied: certifi in /usr/lib/python3/dist-packages (from kaggle) (2020.6.20)\n",
      "Requirement already satisfied: tqdm in /home/ajuan/.local/lib/python3.10/site-packages (from kaggle) (4.64.0)\n",
      "Requirement already satisfied: requests in /usr/lib/python3/dist-packages (from kaggle) (2.25.1)\n",
      "Requirement already satisfied: urllib3 in /usr/lib/python3/dist-packages (from kaggle) (1.26.5)\n",
      "Requirement already satisfied: six>=1.10 in /usr/lib/python3/dist-packages (from kaggle) (1.16.0)\n",
      "Requirement already satisfied: python-dateutil in /usr/lib/python3/dist-packages (from kaggle) (2.8.1)\n",
      "Requirement already satisfied: python-slugify in /home/ajuan/.local/lib/python3.10/site-packages (from kaggle) (8.0.0)\n",
      "Requirement already satisfied: text-unidecode>=1.3 in /home/ajuan/.local/lib/python3.10/site-packages (from python-slugify->kaggle) (1.3)\n"
     ]
    }
   ],
   "source": [
    "%%bash\n",
    "pip install kaggle --upgrade\n",
    "# generar kaggle.json en account de kaggle\n",
    "# chmod 600 ˜/.kaggle/kaggle.json"
   ]
  },
  {
   "attachments": {},
   "cell_type": "markdown",
   "metadata": {},
   "source": [
    "### Configuración"
   ]
  },
  {
   "cell_type": "code",
   "execution_count": 8,
   "metadata": {},
   "outputs": [
    {
     "name": "stdout",
     "output_type": "stream",
     "text": [
      "Configuration values from /home/ajuan/.kaggle\n",
      "- username: alfons22\n",
      "- path: /home/ajuan/.kaggle/download\n",
      "- proxy: None\n",
      "- competition: None\n",
      "- path is now set to: /home/ajuan/.kaggle/download\n"
     ]
    }
   ],
   "source": [
    "%%bash\n",
    "# kaggle config -h\n",
    "kaggle config view\n",
    "kaggle config set -n path -v $HOME/.kaggle/download"
   ]
  },
  {
   "attachments": {},
   "cell_type": "markdown",
   "metadata": {},
   "source": [
    "### Competiciones"
   ]
  },
  {
   "cell_type": "code",
   "execution_count": 10,
   "metadata": {},
   "outputs": [
    {
     "name": "stdout",
     "output_type": "stream",
     "text": [
      "ref                                                                              deadline             category            reward  teamCount  userHasEntered  \n",
      "-------------------------------------------------------------------------------  -------------------  ---------------  ---------  ---------  --------------  \n",
      "https://www.kaggle.com/competitions/titanic                                      2030-01-01 00:00:00  Getting Started  Knowledge      13841            True  \n",
      "https://www.kaggle.com/competitions/house-prices-advanced-regression-techniques  2030-01-01 00:00:00  Getting Started  Knowledge       3875           False  \n",
      "https://www.kaggle.com/competitions/spaceship-titanic                            2030-01-01 00:00:00  Getting Started  Knowledge       2224           False  \n",
      "https://www.kaggle.com/competitions/digit-recognizer                             2030-01-01 00:00:00  Getting Started  Knowledge       1206           False  \n",
      "https://www.kaggle.com/competitions/nlp-getting-started                          2030-01-01 00:00:00  Getting Started  Knowledge        869           False  \n",
      "https://www.kaggle.com/competitions/connectx                                     2030-01-01 00:00:00  Getting Started  Knowledge        249           False  \n",
      "https://www.kaggle.com/competitions/tpu-getting-started                          2030-06-03 23:59:00  Getting Started  Knowledge        135           False  \n",
      "https://www.kaggle.com/competitions/store-sales-time-series-forecasting          2030-06-30 23:59:00  Getting Started  Knowledge        587           False  \n",
      "https://www.kaggle.com/competitions/gan-getting-started                          2030-07-01 23:59:00  Getting Started     Prizes         90           False  \n",
      "https://www.kaggle.com/competitions/contradictory-my-dear-watson                 2030-07-01 23:59:00  Getting Started     Prizes         80           False  \n",
      "titanic.zip: Skipping, found more recently modified local copy (use --force to force download)\n"
     ]
    }
   ],
   "source": [
    "%%bash\n",
    "# kaggle competitions -h\n",
    "# kaggle c list -h\n",
    "kaggle c list --category gettingStarted\n",
    "kaggle c download titanic"
   ]
  },
  {
   "attachments": {},
   "cell_type": "markdown",
   "metadata": {},
   "source": [
    "### Conjuntos de datos"
   ]
  },
  {
   "cell_type": "code",
   "execution_count": 11,
   "metadata": {},
   "outputs": [
    {
     "name": "stdout",
     "output_type": "stream",
     "text": [
      "ref                                                        title                                              size  lastUpdated          downloadCount  voteCount  usabilityRating  \n",
      "---------------------------------------------------------  ------------------------------------------------  -----  -------------------  -------------  ---------  ---------------  \n",
      "uciml/iris                                                 Iris Species                                        4KB  2016-09-27 07:38:05         363623       3222  0.7941176        \n",
      "arshid/iris-flower-dataset                                 Iris Flower Dataset                               1010B  2018-03-22 15:18:06          84370        583  0.8235294        \n",
      "himanshunakrani/iris-dataset                               iris dataset                                      1006B  2022-07-20 18:50:06           1438         34  1.0              \n",
      "vikrishnan/iris-dataset                                    Iris Dataset                                       999B  2017-08-03 16:00:44           9603         49  0.7647059        \n",
      "parulpandey/palmer-archipelago-antarctica-penguin-data     Palmer Archipelago (Antarctica) penguin data       11KB  2020-06-09 10:14:54          39046        318  0.9705882        \n",
      "chuckyin/iris-datasets                                     Iris datasets                                       1KB  2017-03-10 09:35:43           2616         20  0.7352941        \n",
      "therohk/ireland-historical-news                            Irish Times - Waxy-Wany News                       52MB  2021-09-25 10:52:48           3145        161  1.0              \n",
      "jillanisofttech/iris-dataset-uci                           Iris dataset uci                                    1KB  2021-11-06 15:11:47            417         27  1.0              \n",
      "rtatman/iris-dataset-json-version                          Iris Dataset (JSON Version)                         1KB  2018-04-06 20:21:31          11295         63  0.75             \n",
      "arslanali4343/iris-species                                 Iris Species                                        2KB  2020-07-02 06:09:09            145         74  0.5625           \n",
      "vijayaadithyanvg/iris-dataset                              IRIS DATASET                                      1023B  2023-01-14 07:44:53            464         26  1.0              \n",
      "fleanend/birds-songs-numeric-dataset                       Birds' Songs Numeric Dataset                       25MB  2019-04-01 09:09:46           1378         31  0.9411765        \n",
      "conorrot/irish-weather-hourly-data                         Irish Weather (hourly data)                        67MB  2020-06-29 20:15:18           2483         47  0.8235294        \n",
      "jeffheaton/iris-computer-vision                            Iris Computer Vision                                5MB  2020-11-24 21:23:29            961         18  0.875            \n",
      "saurabh00007/iriscsv                                       Iris.csv                                            1KB  2017-11-09 07:34:35          48630         94  0.4117647        \n",
      "kamrankausar/iris-data                                     iris_data                                           1KB  2017-11-30 10:26:01           1617         20  0.64705884       \n",
      "ashkhagan/palmer-penguins-datasetalternative-iris-dataset  Palmer Penguins Dataset-Alternative Iris Dataset    3KB  2020-06-30 06:30:43           1150         17  0.8235294        \n",
      "styven/iris-dataset                                        Iris dataset                                        1KB  2017-11-04 14:10:12            932          8  0.29411766       \n",
      "shantanuss/iris-flower-dataset                             IRIS flower dataset                                 1KB  2020-01-18 19:43:18            507          5  0.9411765        \n",
      "naureenmohammad/mmu-iris-dataset                           MMU iris dataset                                   30MB  2020-07-25 18:38:33           1912         39  0.5625           \n",
      "iris.zip: Skipping, found more recently modified local copy (use --force to force download)\n"
     ]
    }
   ],
   "source": [
    "%%bash\n",
    "# kaggle datasets -h\n",
    "# kaggle d list -h\n",
    "kaggle d list -s iris\n",
    "kaggle d download uciml/iris"
   ]
  },
  {
   "attachments": {},
   "cell_type": "markdown",
   "metadata": {},
   "source": [
    "### Cuadernos (kernels)"
   ]
  },
  {
   "cell_type": "code",
   "execution_count": 12,
   "metadata": {},
   "outputs": [
    {
     "name": "stdout",
     "output_type": "stream",
     "text": [
      "No kernels found\n",
      "ref                                                              title                                              author                    lastRunTime          totalVotes  \n",
      "---------------------------------------------------------------  -------------------------------------------------  ------------------------  -------------------  ----------  \n",
      "ash316/ml-from-scratch-with-iris                                 ML from Scratch with IRIS!!                        Ashwini Swain             2017-08-31 06:00:20         903  \n",
      "jchen2186/machine-learning-with-iris-dataset                     Machine Learning with Iris Dataset                 Jane                      2017-08-07 18:02:48         272  \n",
      "lalitharajesh/iris-dataset-exploratory-data-analysis             Iris Dataset - Exploratory Data Analysis           Lalitha Rajesh            2018-01-26 11:39:38          97  \n",
      "                                                                 [Private Notebook]                                                           2010-04-01 00:00:00           0  \n",
      "parulpandey/penguin-dataset-the-new-iris                          penguin dataset : The new Iris                    Parul Pandey              2020-08-05 01:27:06         103  \n",
      "benhamner/python-data-visualizations                             Python Data Visualizations                         Ben Hamner                2017-08-29 15:54:22        1437  \n",
      "khotijahs1/k-means-clustering-of-iris-dataset                    K-Means Clustering of Iris Dataset                 Siti Khotijah             2020-08-30 16:00:09          96  \n",
      "skalskip/iris-data-visualization-and-knn-classification          Iris data visualization and KNN classification     SkalskiP                  2017-09-27 17:44:34          64  \n",
      "mgabrielkerr/visualizing-knn-svm-and-xgboost-on-iris-dataset     Visualizing KNN, SVM, and XGBoost on Iris Dataset  Gabriel Kerr              2017-04-19 18:47:08         147  \n",
      "anshigupta01/iris-flower-classification                          Iris Flower Classification                         Anshi Gupta               2021-06-22 12:31:52          61  \n",
      "xvivancos/tutorial-knn-in-the-iris-data-set                      Tutorial: kNN in the Iris data set                 Xavier                    2023-01-26 16:37:01         116  \n",
      "tonzowonzo/simple-k-means-clustering-on-the-iris-dataset         Simple K-means clustering on the Iris dataset      Tim I                     2017-04-24 16:00:41          79  \n",
      "prateekk94/fuzzy-c-means-clustering-on-iris-dataset              Fuzzy C-Means Clustering on Iris Dataset           Prateek                   2020-01-30 23:04:44          43  \n",
      "sixteenpython/machine-learning-with-iris-dataset                 Machine Learning with Iris Dataset                 Anand Venkataraman        2019-10-14 17:28:34          27  \n",
      "vinayshaw/iris-species-100-accuracy-using-naive-bayes            Iris Species:100% Accuracy using Naive bayes       Vinay Shaw                2020-06-26 08:07:38          72  \n",
      "arunkumarramanan/ds-and-ml-cheatsheets-with-iris-classification  DS and ML Cheatsheets with Iris Classification     Arunkumar Venkataramanan  2019-02-23 23:09:25         122  \n",
      "efeergun96/unsupervised-learning-on-iris                         Unsupervised Learning on Iris                      Efe Ergun                 2018-11-25 13:49:19          43  \n",
      "antoniolopez/iris-data-visualization-with-r                      Iris data visualization with R                     Antonio Lopez             2017-10-27 02:43:15          36  \n",
      "louisong97/neural-network-approach-to-iris-dataset               Neural network approach to Iris dataset            Louis Ong                 2017-08-27 01:24:12          27  \n",
      "couyang/interactive-iris-lightgbm                                Interactive Iris & LightGBM                        Owen Ouyang               2018-05-29 01:44:27          41  \n",
      "Source code downloaded to /home/ajuan/.kaggle/download/kernels/alexisbcook/titanic-tutorial/titanic-tutorial.ipynb\n"
     ]
    }
   ],
   "source": [
    "%%bash\n",
    "# kaggle kernels -h\n",
    "# kaggle k list -h\n",
    "kaggle k list --user USUARIO_KAGGLE\n",
    "kaggle k list -s iris\n",
    "kaggle k pull alexisbcook/titanic-tutorial"
   ]
  }
 ],
 "metadata": {
  "kernelspec": {
   "display_name": "Python 3",
   "language": "python",
   "name": "python3"
  },
  "language_info": {
   "codemirror_mode": {
    "name": "ipython",
    "version": 3
   },
   "file_extension": ".py",
   "mimetype": "text/x-python",
   "name": "python",
   "nbconvert_exporter": "python",
   "pygments_lexer": "ipython3",
   "version": "3.10.6"
  },
  "orig_nbformat": 4,
  "vscode": {
   "interpreter": {
    "hash": "e7370f93d1d0cde622a1f8e1c04877d8463912d04d973331ad4851f04de6915a"
   }
  }
 },
 "nbformat": 4,
 "nbformat_minor": 2
}
