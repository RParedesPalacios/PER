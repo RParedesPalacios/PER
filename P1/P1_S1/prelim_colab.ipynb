{
 "cells": [
  {
   "attachments": {},
   "cell_type": "markdown",
   "metadata": {},
   "source": [
    "# [Colab](https://colab.research.google.com/)"
   ]
  },
  {
   "attachments": {},
   "cell_type": "markdown",
   "metadata": {},
   "source": [
    "Aunque el servicio PoliLabs de la UPV permite conectarnos a un escritorio virtual desde la UPV o fuera, conviene tener alternativas para la realización de prácticas de laboratorio. La primera y más recomendada es disponer de un PC propio, portátil con GPU CUDA-compatible si es posible, en el que realizar las prácticas. La segunda alternativa consiste en emplear el servicio gratuito [colab](https://colab.research.google.com/) de Google. Esta segunda alternativa es especialmente recomendable en PER ya que nuestro principal libro de referencia, [Probabilistic Machine Learning: An Introduction](https://probml.github.io/pml-book/book1.html), viene acompañado por un repositorio de código python, [pyprobml](https://github.com/probml/pyprobml), pensado para ser ejecutado en colab."
   ]
  },
  {
   "attachments": {},
   "cell_type": "markdown",
   "metadata": {},
   "source": [
    "## [Cuaderno de bienvenida oficial](https://colab.research.google.com)"
   ]
  },
  {
   "attachments": {},
   "cell_type": "markdown",
   "metadata": {},
   "source": [
    "El primer paso para familiarizarse con colab consiste en acceder con una cuenta y leer el cuaderno de bienvenida oficial. A continuación destacamos algunas partes del mismo:\n",
    "\n",
    "\n",
    "> * [Getting started](https://colab.research.google.com/notebooks/intro.ipynb#scrollTo=GJBs_flRovLc): ejecuta celdas de código con Ctrl+Enter\n",
    "> * [Data science](https://colab.research.google.com/notebooks/intro.ipynb#scrollTo=UdRyKR44dcNI): redibuja la gráfica con $100$ valores $200 + 3 \\mathcal{N}(0, 1)$\n",
    "> * [Machine learning](https://colab.research.google.com/notebooks/intro.ipynb#scrollTo=OwuxHmxllTwN): reproduce el ejemplo [NeMo Voice Swap](https://colab.research.google.com/github/NVIDIA/NeMo/blob/stable/tutorials/VoiceSwapSample.ipynb) y comprueba si hay algún error de reconocimiento (sí, likt)"
   ]
  },
  {
   "attachments": {},
   "cell_type": "markdown",
   "metadata": {},
   "source": [
    "### [Resumen de colab](https://colab.research.google.com/notebooks/basic_features_overview.ipynb)"
   ]
  },
  {
   "attachments": {},
   "cell_type": "markdown",
   "metadata": {},
   "source": [
    "> * [Celdas](https://colab.research.google.com/notebooks/basic_features_overview.ipynb#scrollTo=JyG45Qk3qQLS): operaciones básicas con celdas, de código y textuales\n",
    "> * [Trabajando con python](https://colab.research.google.com/notebooks/basic_features_overview.ipynb#scrollTo=GOwlZRXEQSHZ):\n",
    ">> * [System aliases](https://colab.research.google.com/notebooks/basic_features_overview.ipynb#scrollTo=Wej_mEyXQSHc): del estilo `!ls`\n",
    ">> * [Magics](https://colab.research.google.com/notebooks/basic_features_overview.ipynb#scrollTo=qM4myQGfQboQ): órdenes mágicas de ipython que se describen en el cuaderno [Cell Magics](https://github.com/ipython/ipython/blob/1.x/examples/notebooks/Cell%20Magics.ipynb)\n",
    ">> * [Completaciones automáticas y documentación](https://colab.research.google.com/notebooks/basic_features_overview.ipynb#scrollTo=d4L9TOP9QSHn): muy cómodas en el desarrollo de programas\n",
    ">> * [Formato de excepciones](https://colab.research.google.com/notebooks/basic_features_overview.ipynb#scrollTo=TYTBdJXxfqiJ): facilita la localización de errores\n",
    ">> * [Salidas interactivas ricas](https://colab.research.google.com/notebooks/basic_features_overview.ipynb#scrollTo=7cRnhv_7N4Pa): gráfica ejemplo\n",
    "> * [Integración con Drive](https://colab.research.google.com/notebooks/basic_features_overview.ipynb#scrollTo=aro-UJgUQSH1): para guardar y compartir cuadernos\n",
    ">> * [Commentarios de celda](https://colab.research.google.com/notebooks/basic_features_overview.ipynb#scrollTo=4hfV37gxpP_c): `Ctrl+Shift+M` añade comentario"
   ]
  },
  {
   "attachments": {},
   "cell_type": "markdown",
   "metadata": {},
   "source": [
    "### Markdown, importación de librerías y manejo de cuadernos"
   ]
  },
  {
   "attachments": {},
   "cell_type": "markdown",
   "metadata": {},
   "source": [
    "> * [Guı́a de Markdown](https://colab.research.google.com/notebooks/markdown_guide.ipynb)\n",
    ">> * [Referencia](https://colab.research.google.com/notebooks/markdown_guide.ipynb#scrollTo=Lhfnlq1Surtk): estilos de texto, secciones e ı́ndice, bloques de código, listas, ecuaciones, tablas y reglas horizontales\n",
    "\n",
    "> * [Importación de librerı́as](https://colab.research.google.com/notebooks/snippets/importing_libraries.ipynb): por ejemplo graphviz con `!apt-get -qq install -y graphviz && pip install pydot`\n",
    "> * [Guardar y leer cuadernos en github](https://colab.research.google.com/github/googlecolab/colabtools/blob/main/notebooks/colab-github-demo.ipynb)\n",
    ">> * [Lectura de cuadernos públicos](https://colab.research.google.com/github/googlecolab/colabtools/blob/main/notebooks/colab-github-demo.ipynb#scrollTo=K-NVg7RjyeTk):\n",
    ">>> * https://colab.research.google.com/github/googlecolab/colabtools/blob/main/notebooks/colab-github-demo.ipynb\n",
    ">>> * [Open in Colab](https://chrome.google.com/webstore/detail/open-in-colab/iogfkhleblhcpcekbiedikdehleodpjo): extensión de chrome\n",
    ">> * [Navegación](https://colab.research.google.com/github/googlecolab/colabtools/blob/main/notebooks/colab-github-demo.ipynb#scrollTo=WzIRIt9d2huC): con el [navegador](http://colab.research.google.com/github), autorizando el acceso a una cuenta github desde la de Google\n",
    ">> * [Lectura de cuadernos privados](https://colab.research.google.com/github/googlecolab/colabtools/blob/main/notebooks/colab-github-demo.ipynb#scrollTo=Rmai0dD30XzL): checkbox en [navegador](http://colab.research.google.com/github)\n",
    ">> * [Guardar cuadernos en github o drive](https://colab.research.google.com/github/googlecolab/colabtools/blob/main/notebooks/colab-github-demo.ipynb#scrollTo=8J3NBxtZpPcK): en menú File\n",
    ">> * [Etiqueta Open in Colab](https://colab.research.google.com/github/googlecolab/colabtools/blob/main/notebooks/colab-github-demo.ipynb#scrollTo=8QAWNjizy_3O): markdown para obtenerla"
   ]
  },
  {
   "attachments": {},
   "cell_type": "markdown",
   "metadata": {},
   "source": [
    "## [Cuaderno de Kevin Murphy](https://colab.research.google.com)"
   ]
  },
  {
   "attachments": {},
   "cell_type": "markdown",
   "metadata": {},
   "source": [
    "En su cuaderno de introducción a colab, Kevin Murphy describe herramientas básicas para trabajar en ML hoy en día:\n",
    "\n",
    "> * [Introducción a colab](https://colab.research.google.com/github/probml/probml-notebooks/blob/master/notebooks/colab_intro.ipynb#scrollTo=24_OboyL7tqe): colab es la versión Google de los cuadernos jupyter\n",
    "> * [Importación y uso de librerı́as estándar](https://colab.research.google.com/github/probml/probml-notebooks/blob/master/notebooks/colab_intro.ipynb#scrollTo=8lAbDqny-vDq): <!-- >`!pip list -v, numpy, pandas, sklearn, jax, tensorflow, pytorch` -->\n",
    ">> * [Numpy](https://colab.research.google.com/github/probml/probml-notebooks/blob/master/notebooks/colab_intro.ipynb#scrollTo=fOBdg02-_Jws): librería de cáculo científico importantísima!\n",
    ">> * [Pandas](https://colab.research.google.com/github/probml/probml-notebooks/blob/master/notebooks/colab_intro.ipynb#scrollTo=76jPgsuk_1IP): librería de análisis y manipulación de datos; la usaremos moderadamente\n",
    ">> * [Sklearn](https://colab.research.google.com/github/probml/probml-notebooks/blob/master/notebooks/colab_intro.ipynb#scrollTo=hUCC261x_7zZ): librería ML del INRIA; la más importante en PER\n",
    ">> * [JAX](https://colab.research.google.com/github/probml/probml-notebooks/blob/master/notebooks/colab_intro.ipynb#scrollTo=PJXF4csdBhsN): JAX es autograd y XLA para optimizar programas python+numpy; aunque en PER no da tiempo a verlo, conviene saber que es la apuesta actual de Google research y, de hecho, Kevin Murphy está [jaxificando (y latexificando) los cuadernos del libro](https://github.com/probml/pyprobml/blob/workflow_testing_indicator/dashboard_figures_book1.md)\n",
    ">> * [Tensorflow](https://colab.research.google.com/github/probml/probml-notebooks/blob/master/notebooks/colab_intro.ipynb#scrollTo=l99YLyorBdYE): librería ML de Google\n",
    ">> * [PyTorch](https://colab.research.google.com/github/probml/probml-notebooks/blob/master/notebooks/colab_intro.ipynb#scrollTo=grUUK1GrBfIY): librería ML de Meta; [es la librería ML más usada actualmente](https://paperswithcode.com/trends)\n",
    "> * [Gráficas](https://colab.research.google.com/github/probml/probml-notebooks/blob/master/notebooks/colab_intro.ipynb#scrollTo=M4ayVFuc0FD9):\n",
    ">> * [Gráficas estáticas](https://colab.research.google.com/github/probml/probml-notebooks/blob/master/notebooks/colab_intro.ipynb#scrollTo=ENCT0EqifCDO): veremos muchas gráficas hechas con matplotlib\n",
    ">> * [Seaborn](https://colab.research.google.com/github/probml/probml-notebooks/blob/master/notebooks/colab_intro.ipynb#scrollTo=eUCPm29t6VZf): lo usaremos en breve para hacer un gráfico matricial de dispersión <!-- >>> * [Gráficas interactivas](https://colab.research.google.com/github/probml/probml-notebooks/blob/master/notebooks/colab_intro.ipynb#scrollTo=iFwo8LA4fIh9): en principio no las usaremos --> <!-- >>> * [Visualización de imágenes](https://colab.research.google.com/github/probml/probml-notebooks/blob/master/notebooks/colab_intro.ipynb#scrollTo=FwIG5xw8ad8I): hay diferentes utilidades para hacerlo --> <!-- >> * [Visualización de arrays](https://colab.research.google.com/github/probml/probml-notebooks/blob/master/notebooks/colab_intro.ipynb#scrollTo=y4_LLDBWGkE4): es un consejo para evitar aliasing al representar matrices gráficamente -->\n",
    ">> * [Graphviz](https://colab.research.google.com/github/probml/probml-notebooks/blob/master/notebooks/colab_intro.ipynb#scrollTo=qLh3fxl63IHW): lo usaremos en breve para representar árboles de decisión <!-- >> * [Barra de progreso]https://colab.research.google.com/github/probml/probml-notebooks/blob/master/notebooks/colab_intro.ipynb#scrollTo=DaSY50JzpWnC: en principio no las usaremos -->\n",
    "> * [Filing system issues](https://colab.research.google.com/github/probml/probml-notebooks/blob/master/notebooks/colab_intro.ipynb#scrollTo=lyWwltzKlAHS):\n",
    ">> * [Acceso a ficheros locales](https://colab.research.google.com/github/probml/probml-notebooks/blob/master/notebooks/colab_intro.ipynb#scrollTo=Accessing_local_files): clic en el icono de carpeta a la izquierda\n",
    ">> * [Sincronización con Google drive](https://colab.research.google.com/github/probml/probml-notebooks/blob/master/notebooks/colab_intro.ipynb#scrollTo=Syncing_with_Google_drive): los ficheros en colab duran entre 90 minutos y 12 horas\n",
    ">> * [Subir datos a colab desde tu máquina local](https://colab.research.google.com/github/probml/probml-notebooks/blob/master/notebooks/colab_intro.ipynb#scrollTo=Uploading_data_to_colab_from_your_local_machine): `files.upload()`\n",
    ">> * [Bajar datos desde colab a tu máquina local](https://colab.research.google.com/github/probml/probml-notebooks/blob/master/notebooks/colab_intro.ipynb#scrollTo=Downloading_data_from_colab_to_your_local_machine): `files.download()`\n",
    ">> * [Bajar datos de la web a colab](https://colab.research.google.com/github/probml/probml-notebooks/blob/master/notebooks/colab_intro.ipynb#scrollTo=Loading_data_from_the_web_into_colab): `wget`\n",
    ">> * [Bajar código de la web a colab](https://colab.research.google.com/github/probml/probml-notebooks/blob/master/notebooks/colab_intro.ipynb#scrollTo=Loading_code_from_the_web_into_colab): `wget` <!-- >>> * [Ver todos tus cuadernos](https://colab.research.google.com/github/probml/probml-notebooks/blob/master/notebooks/colab_intro.ipynb#scrollTo=Viewing_all_your_notebooks): -->\n",
    "> * [Trabajando con github](https://colab.research.google.com/github/probml/probml-notebooks/blob/master/notebooks/colab_intro.ipynb#scrollTo=buZsxpmUS37n): prueba a abrir https://github.com/AlfonsJ/2023_07_31_PER2223 en colab con https://colab.research.google.com/github/AlfonsJ/2023_07_31_PER2223\n",
    ">> * [Clonar un repo desde github](https://colab.research.google.com/github/probml/probml-notebooks/blob/master/notebooks/colab_intro.ipynb#scrollTo=Cloning_a_repo_from_github): `!git clone https://github.com/AlfonsJ/2023_07_31_PER2223`\n",
    ">> * [Subir ficheros locales de nuevo a github](https://colab.research.google.com/github/probml/probml-notebooks/blob/master/notebooks/colab_intro.ipynb#scrollTo=Pushing_local_files_back_to_github): si lo usas bastante, la autenticación ssh es muy recomendable\n",
    "> * [Herramientas de programación](https://colab.research.google.com/github/probml/probml-notebooks/blob/master/notebooks/colab_intro.ipynb#scrollTo=q-kRtmdm5d7X):\n",
    ">> * [Pros y contras de los cuadernos](https://colab.research.google.com/github/probml/probml-notebooks/blob/master/notebooks/colab_intro.ipynb#scrollTo=Qq8fvAl8Qqf4): hay opiniones encontradas\n",
    ">> * [Flujo de trabajo recomendado](https://colab.research.google.com/github/probml/probml-notebooks/blob/master/notebooks/colab_intro.ipynb#scrollTo=Recommended_workflow): desarrollar inicialmente en cuaderno y luego organizar código en ficheros  separados; VScode se puede conectar a la máquina colab por ssh\n",
    ">> * [Evitar problemas con variables globales](https://colab.research.google.com/github/probml/probml-notebooks/blob/master/notebooks/colab_intro.ipynb#scrollTo=Avoiding_problems_with_global_state): `!pip install localscope`\n",
    ">> * [Argparse](https://colab.research.google.com/github/probml/probml-notebooks/blob/master/notebooks/colab_intro.ipynb#scrollTo=KoYhOfdLJOB5): `import argparse` <!-- >>> * [Ficheros YAML](https://colab.research.google.com/github/probml/probml-notebooks/blob/master/notebooks/colab_intro.ipynb#scrollTo=I9YU0L_lKQIc): -->\n",
    "> * [Aceleradores hardware](https://colab.research.google.com/github/probml/probml-notebooks/blob/master/notebooks/colab_intro.ipynb#scrollTo=7KrRcbQ71ZyZ):\n",
    ">> * [CPUs](https://colab.research.google.com/github/probml/probml-notebooks/blob/master/notebooks/colab_intro.ipynb#scrollTo=Qpb9N-c-3RSf): por omisión, colab se ejecuta en CPU\n",
    ">> * [Memoria](https://colab.research.google.com/github/probml/probml-notebooks/blob/master/notebooks/colab_intro.ipynb#scrollTo=PivaBI5za45p): se puede consultar la memoria de la máquina virtual (27 GB)\n",
    ">> * [GPUs](https://colab.research.google.com/github/probml/probml-notebooks/blob/master/notebooks/colab_intro.ipynb#scrollTo=v0G2d13kIEz5): se puede escoger una GPU modesta gratuita y ejecutar colab con GPU"
   ]
  },
  {
   "attachments": {},
   "cell_type": "markdown",
   "metadata": {},
   "source": [
    "**Ejercicio:** Crea un cuaderno nuevo en colab y clona el repositorio github de PER2223 con `!git clone https://github.com/AlfonsJ/2023_07_31_PER2223`"
   ]
  }
 ],
 "metadata": {
  "kernelspec": {
   "display_name": "Python 3",
   "language": "python",
   "name": "python3"
  },
  "language_info": {
   "name": "python",
   "version": "3.10.6"
  },
  "orig_nbformat": 4,
  "vscode": {
   "interpreter": {
    "hash": "e7370f93d1d0cde622a1f8e1c04877d8463912d04d973331ad4851f04de6915a"
   }
  }
 },
 "nbformat": 4,
 "nbformat_minor": 2
}
